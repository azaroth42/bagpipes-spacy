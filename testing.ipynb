{
 "cells": [
  {
   "cell_type": "code",
   "execution_count": 1,
   "metadata": {},
   "outputs": [],
   "source": [
    "import spacy\n",
    "from bagpipes_spacy import PhrasesExtractor, TripleDetector, EntitySimilarity, Normalizer, QuoteDetector"
   ]
  },
  {
   "cell_type": "code",
   "execution_count": 2,
   "metadata": {},
   "outputs": [
    {
     "name": "stderr",
     "output_type": "stream",
     "text": [
      "/home/wjbmattingly/anaconda3/lib/python3.7/site-packages/spacy/util.py:910: UserWarning: [W095] Model 'en_core_web_sm' (3.5.0) was trained with spaCy v3.5 and may not be 100% compatible with the current version (3.6.0). If you see errors or degraded performance, download a newer compatible model or retrain your custom model with the current spaCy version. For more details and available updates, run: python -m spacy validate\n",
      "  warnings.warn(warn_msg)\n"
     ]
    },
    {
     "name": "stdout",
     "output_type": "stream",
     "text": [
      "Tom is the best person.\n",
      "(Tom,)\n"
     ]
    }
   ],
   "source": [
    "nlp = spacy.load(\"en_core_web_sm\")\n",
    "config = {'normalize_whitespace': True, 'remove_parentheses': True, 'remove_brackets': True}\n",
    "nlp.add_pipe('normalizer', first=True, config=config)\n",
    "\n",
    "text = \"\"\"       \n",
    "Tom is the best person.\n",
    "\"\"\"\n",
    "\n",
    "doc = nlp(text)\n",
    "print(doc)\n",
    "print(doc.ents)"
   ]
  },
  {
   "cell_type": "code",
   "execution_count": 3,
   "metadata": {},
   "outputs": [],
   "source": [
    "# # Load a spaCy model\n",
    "# nlp = spacy.load(\"en_core_web_lg\")\n",
    "# # Add the prep_phraser to the pipeline\n",
    "# nlp.add_pipe(\"phrases_extractor\")\n",
    "# nlp.add_pipe(\"triple_detector\")\n",
    "# nlp.add_pipe(\"entity_similarity\")\n",
    "\n",
    "# # set the similarity threshold\n",
    "# nlp.config[\"threshold\"] = 0.5\n",
    "\n",
    "# doc = nlp(\"Barack Obama was president. Obama was also a senator. Elon Musk owns Twitter, but Musk also owns other companies. SpaceX is a mispelling.\")\n",
    "# print(doc._.ent_similarity)\n",
    "# print(doc._.ent_mappings)\n",
    "\n"
   ]
  },
  {
   "attachments": {},
   "cell_type": "markdown",
   "metadata": {},
   "source": []
  },
  {
   "cell_type": "code",
   "execution_count": 4,
   "metadata": {},
   "outputs": [],
   "source": [
    "for chunk in doc._.triples:\n",
    "    print(chunk)"
   ]
  },
  {
   "cell_type": "code",
   "execution_count": 5,
   "metadata": {},
   "outputs": [
    {
     "name": "stdout",
     "output_type": "stream",
     "text": [
      "['\"I am going to the store.\"', \"'Really?'\", '\"Is that a problem?\"']\n"
     ]
    }
   ],
   "source": [
    "\n",
    "# Usage:\n",
    "nlp = spacy.load(\"en_core_web_sm\")\n",
    "nlp.add_pipe('quote_detector', last=True)\n",
    "\n",
    "text = \"\"\"He said, \"I am going to the store.\" Then she replied, 'Really?' \"Is that a problem?\" \"\"\"\n",
    "\n",
    "doc = nlp(text)\n",
    "print([quote.text for quote in doc._.quotes])\n"
   ]
  },
  {
   "cell_type": "code",
   "execution_count": 6,
   "metadata": {},
   "outputs": [
    {
     "name": "stdout",
     "output_type": "stream",
     "text": [
      "['\"I am going to the store.\"', \"'Really?'\", '\"Is that a problem?\"']\n"
     ]
    }
   ],
   "source": [
    "print([quote.text for quote in doc._.quotes])\n"
   ]
  },
  {
   "cell_type": "code",
   "execution_count": null,
   "metadata": {},
   "outputs": [],
   "source": []
  }
 ],
 "metadata": {
  "kernelspec": {
   "display_name": "base",
   "language": "python",
   "name": "python3"
  },
  "language_info": {
   "codemirror_mode": {
    "name": "ipython",
    "version": 3
   },
   "file_extension": ".py",
   "mimetype": "text/x-python",
   "name": "python",
   "nbconvert_exporter": "python",
   "pygments_lexer": "ipython3",
   "version": "3.7.15"
  },
  "orig_nbformat": 4
 },
 "nbformat": 4,
 "nbformat_minor": 2
}
