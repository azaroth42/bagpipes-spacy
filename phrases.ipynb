{
 "cells": [
  {
   "cell_type": "code",
   "execution_count": 1,
   "metadata": {},
   "outputs": [],
   "source": [
    "import spacy\n",
    "from bagpipes_spacy import PhrasesExtractor"
   ]
  },
  {
   "cell_type": "code",
   "execution_count": 8,
   "metadata": {},
   "outputs": [
    {
     "name": "stdout",
     "output_type": "stream",
     "text": [
      "Prepositional Phrases\n",
      "\n",
      "[out onto, onto a rather fine antique rug, from the sleeves, of his long pin-striped cloak, in his hand]\n",
      "Noun Phrases\n",
      "[a rather fine antique rug, the sleeves of his long pin-striped cloak, a lime-green bowler hat in his hand, his long pin-striped cloak, a lime-green bowler hat in his hand, a lime-green bowler hat in his hand, his hand]\n",
      "Verb Phrases\n",
      "[Seconds later, he had climbed out onto a rather fine antique rug, brushing ash from the sleeves of his long pin-striped cloak, a lime-green bowler hat in his hand.\n",
      ", brushing ash from the sleeves of his long pin-striped cloak, a lime-green bowler hat in his hand, pin-striped]\n",
      "Adj Phrases\n",
      "[fine antique, long, green]\n"
     ]
    }
   ],
   "source": [
    "nlp = spacy.load(\"en_core_web_md\")\n",
    "\n",
    "nlp.add_pipe(\"phrases_extractor\")\n",
    "\n",
    "text = \"\"\"Seconds later, he had climbed out onto a rather fine antique rug, brushing ash from the sleeves of his long pin-striped cloak, a lime-green bowler hat in his hand.\n",
    "\"\"\"\n",
    "\n",
    "doc = nlp(text)\n",
    "\n",
    "print(\"Prepositional Phrases\")\n",
    "print(doc._.prep_phrases)\n",
    "print()\n",
    "\n",
    "print(\"Noun Phrases\")\n",
    "print(doc._.noun_phrases)\n",
    "print()\n",
    "\n",
    "print(\"Verb Phrases\")\n",
    "print(doc._.verb_phrases)\n",
    "print()\n",
    "\n",
    "print(\"Adj Phrases\")\n",
    "print(doc._.adj_phrases)"
   ]
  },
  {
   "cell_type": "code",
   "execution_count": 5,
   "metadata": {},
   "outputs": [
    {
     "data": {
      "text/plain": [
       "[a rather fine antique rug,\n",
       " the sleeves of his long pin-striped cloak, a lime-green bowler hat in his hand,\n",
       " his long pin-striped cloak, a lime-green bowler hat in his hand,\n",
       " a lime-green bowler hat in his hand,\n",
       " his hand]"
      ]
     },
     "execution_count": 5,
     "metadata": {},
     "output_type": "execute_result"
    }
   ],
   "source": [
    "doc._.noun_phrases"
   ]
  },
  {
   "cell_type": "code",
   "execution_count": null,
   "metadata": {},
   "outputs": [],
   "source": []
  }
 ],
 "metadata": {
  "kernelspec": {
   "display_name": "base",
   "language": "python",
   "name": "python3"
  },
  "language_info": {
   "codemirror_mode": {
    "name": "ipython",
    "version": 3
   },
   "file_extension": ".py",
   "mimetype": "text/x-python",
   "name": "python",
   "nbconvert_exporter": "python",
   "pygments_lexer": "ipython3",
   "version": "3.7.15"
  },
  "orig_nbformat": 4
 },
 "nbformat": 4,
 "nbformat_minor": 2
}
