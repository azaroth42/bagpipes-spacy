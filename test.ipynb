{
 "cells": [
  {
   "cell_type": "code",
   "execution_count": 1,
   "metadata": {},
   "outputs": [],
   "source": [
    "import spacy"
   ]
  },
  {
   "cell_type": "code",
   "execution_count": 3,
   "metadata": {},
   "outputs": [
    {
     "name": "stderr",
     "output_type": "stream",
     "text": [
      "/Applications/anaconda3/envs/bow/lib/python3.10/site-packages/tqdm/auto.py:21: TqdmWarning: IProgress not found. Please update jupyter and ipywidgets. See https://ipywidgets.readthedocs.io/en/stable/user_install.html\n",
      "  from .autonotebook import tqdm as notebook_tqdm\n"
     ]
    },
    {
     "name": "stdout",
     "output_type": "stream",
     "text": [
      "{Twitter: [Twitter, Microsoft], Michael Jordan: [Michael Jordan, Tiger Woods]}\n",
      "{Microsoft is a company.: [Microsoft is a company., Twitter is another company.], Michael Jordan is an athlete.: [Michael Jordan is an athlete., Tiger Woods is an athlete.]}\n",
      "{company: [company, Microsoft], company: [company, company, Microsoft], Tiger: [Tiger, Woods], Woods: [Woods, Jordan], athlete: [athlete, athlete], Michael: [Michael, Jordan]}\n"
     ]
    }
   ],
   "source": [
    "nlp = spacy.load(\"en_core_web_lg\")\n",
    "nlp.add_pipe(\"sentence_cluster\", config={\"threshold\": 0.8})\n",
    "nlp.add_pipe(\"token_cluster\", config={\"threshold\": 0.4})\n",
    "nlp.add_pipe(\"entity_cluster\", config={\"threshold\": 0.3})\n",
    "nlp.add_pipe(\"keyword_extractor\", last=True, config={\"top_n\": 10, \"min_ngram\": 1, \"max_ngram\": 3, \"strict\": True, \"top_n_sent\": 3})\n",
    "\n",
    "text = \"Microsoft is a company. Twitter is another company. Tiger Woods is an athlete. Michael Jordan is an athlete.\"\n",
    "text = text.replace(\"MIcrosoft\", \"Microsoft\")\n",
    "doc = nlp(text)\n",
    "\n",
    "print(doc._.ent_cluster)\n",
    "print(doc._.sent_cluster)\n",
    "print(doc._.token_cluster)\n",
    "# print(\"Top Document Keywords:\", doc._.keywords)\n",
    "# for sent in doc.sents:\n",
    "#     print(f\"Sentence: {sent.text}\")\n",
    "#     print(\"Top Sentence Keywords:\", sent._.sent_keywords)"
   ]
  },
  {
   "cell_type": "code",
   "execution_count": 26,
   "metadata": {},
   "outputs": [
    {
     "name": "stdout",
     "output_type": "stream",
     "text": [
      "Top Document Keywords: [('Natural language processing', 1, 0.7576146), ('language processing', 1, 0.75203013), ('artificial intelligence', 1, 0.74064857), ('generate human language', 1, 0.8099933), ('generate human', 1, 0.766044), ('human language', 1, 0.7234799)]\n",
      "Sentence: Natural language processing is a fascinating domain of artificial intelligence.\n",
      "Top Sentence Keywords: [('Natural language processing', 0.7576146), ('language processing', 0.75203013), ('artificial intelligence', 0.74064857)]\n",
      "Sentence: It allows computers to understand and generate human language.\n",
      "Top Sentence Keywords: [('generate human language', 0.8099933), ('generate human', 0.766044), ('human language', 0.7234799)]\n"
     ]
    }
   ],
   "source": [
    "nlp = spacy.load(\"en_core_web_lg\")\n",
    "nlp.add_pipe(\"keyword_extractor\", last=True, config={\"top_n\": 10, \"min_ngram\": 1, \"max_ngram\": 3, \"strict\": True, \"top_n_sent\": 3})\n",
    "ext = \"Natural language processing is a fascinating domain of artificial intelligence. It allows computers to understand and generate human language.\"\n",
    "doc = nlp(text)\n",
    "print(\"Top Document Keywords:\", doc._.keywords)\n",
    "for sent in doc.sents:\n",
    "    print(f\"Sentence: {sent.text}\")\n",
    "    print(\"Top Sentence Keywords:\", sent._.sent_keywords)"
   ]
  },
  {
   "attachments": {},
   "cell_type": "markdown",
   "metadata": {},
   "source": []
  }
 ],
 "metadata": {
  "kernelspec": {
   "display_name": "base",
   "language": "python",
   "name": "python3"
  },
  "language_info": {
   "codemirror_mode": {
    "name": "ipython",
    "version": 3
   },
   "file_extension": ".py",
   "mimetype": "text/x-python",
   "name": "python",
   "nbconvert_exporter": "python",
   "pygments_lexer": "ipython3",
   "version": "3.10.14"
  },
  "orig_nbformat": 4
 },
 "nbformat": 4,
 "nbformat_minor": 2
}
