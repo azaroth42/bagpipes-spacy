{
 "cells": [
  {
   "cell_type": "code",
   "execution_count": 1,
   "metadata": {},
   "outputs": [],
   "source": [
    "import spacy\n",
    "from bagpipes_spacy import *"
   ]
  },
  {
   "cell_type": "code",
   "execution_count": 6,
   "metadata": {},
   "outputs": [
    {
     "name": "stdout",
     "output_type": "stream",
     "text": [
      "Top Document Keywords: [('Bill Gates', 1, 0.5138), ('Gates', 1, 0.50721294), ('owned', 1, 0.47563553), ('company', 1, 0.60368484), ('Apple', 1, 0.39123282), ('organization', 1, 0.54564404), ('language', 1, 0.606015), ('study', 1, 0.5309065), ('NLP', 1, 0.28258514), ('type', 1, 0.55953383)]\n",
      "Sentence: Microsoft was owned by Bill Gates.\n",
      "Top Sentence Keywords: [('Bill Gates', 0.5138), ('Gates', 0.50721294), ('owned', 0.47563553)]\n",
      "Sentence: Apple is another company.\n",
      "Top Sentence Keywords: [('company', 0.60368484), ('Apple', 0.39123282)]\n",
      "Sentence: The organization is for me.\n",
      "Top Sentence Keywords: [('organization', 0.54564404)]\n",
      "Sentence: NLP is the study of language.\n",
      "Top Sentence Keywords: [('language', 0.606015), ('study', 0.5309065), ('NLP', 0.28258514)]\n",
      "Sentence: Text is a type of a string.\n",
      "Top Sentence Keywords: [('type', 0.55953383), ('string', 0.5081401), ('Text', 0.1846616)]\n"
     ]
    }
   ],
   "source": [
    "nlp = spacy.load(\"en_core_web_md\")\n",
    "nlp.add_pipe(\"sentence_cluster\", config={\"threshold\": 0.7})\n",
    "nlp.add_pipe(\"token_cluster\"), config={\"threshold\": 0.4})\n",
    "nlp.add_pipe(\"entity_cluster\", config={\"threshold\": 0.3})\n",
    "nlp.add_pipe(\"keyword_extractor\", last=True, config={\"top_n\": 10, \"min_ngram\": 1, \"max_ngram\": 3, \"strict\": True, \"top_n_sent\": 3})\n",
    "\n",
    "text = \"Microsoft was owned by Bill Gates. Apple is another company. The organization is for me. NLP is the study of language. Text is a type of a string.\"\n",
    "text = text.replace(\"MIcrosoft\", \"Microsoft\")\n",
    "doc = nlp(text)\n",
    "print(doc.ents)\n",
    "\n",
    "print(doc._.ent_cluster)\n",
    "print(doc._.sent_cluster)\n",
    "print(doc._.token_cluster)\n",
    "print(\"Top Document Keywords:\", doc._.keywords)\n",
    "for sent in doc.sents:\n",
    "    print(f\"Sentence: {sent.text}\")\n",
    "    print(\"Top Sentence Keywords:\", sent._.sent_keywords)"
   ]
  },
  {
   "cell_type": "code",
   "execution_count": 3,
   "metadata": {},
   "outputs": [
    {
     "name": "stdout",
     "output_type": "stream",
     "text": [
      "Top Document Keywords: [('Natural language processing', 1, 0.7576146), ('generate human language', 1, 0.8099933)]\n",
      "Sentence: Natural language processing is a fascinating domain of artificial intelligence.\n",
      "Top Sentence Keywords: [('Natural language processing', 0.7576146)]\n",
      "Sentence: It allows computers to understand and generate human language.\n",
      "Top Sentence Keywords: [('generate human language', 0.8099933)]\n"
     ]
    }
   ],
   "source": [
    "text = \"Natural language processing is a fascinating domain of artificial intelligence. It allows computers to understand and generate human language.\"\n",
    "doc = nlp(text)\n",
    "print(\"Top Document Keywords:\", doc._.keywords)\n",
    "for sent in doc.sents:\n",
    "    print(f\"Sentence: {sent.text}\")\n",
    "    print(\"Top Sentence Keywords:\", sent._.sent_keywords)"
   ]
  },
  {
   "attachments": {},
   "cell_type": "markdown",
   "metadata": {},
   "source": []
  }
 ],
 "metadata": {
  "kernelspec": {
   "display_name": "base",
   "language": "python",
   "name": "python3"
  },
  "language_info": {
   "codemirror_mode": {
    "name": "ipython",
    "version": 3
   },
   "file_extension": ".py",
   "mimetype": "text/x-python",
   "name": "python",
   "nbconvert_exporter": "python",
   "pygments_lexer": "ipython3",
   "version": "3.7.15"
  },
  "orig_nbformat": 4
 },
 "nbformat": 4,
 "nbformat_minor": 2
}
