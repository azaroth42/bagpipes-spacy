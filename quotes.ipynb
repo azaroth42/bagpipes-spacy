{
 "cells": [
  {
   "cell_type": "code",
   "execution_count": 2,
   "metadata": {},
   "outputs": [],
   "source": [
    "import spacy\n",
    "from bagpipes_spacy import QuoteDetector"
   ]
  },
  {
   "cell_type": "code",
   "execution_count": 8,
   "metadata": {},
   "outputs": [
    {
     "name": "stdout",
     "output_type": "stream",
     "text": [
      "\"I... oh ... very well,\"\n",
      "\"Yes, I'll see Fudge.\"\n",
      "\"Ah... Prime Minister,\"\n",
      "\"Good to see you again.\"\n",
      "\"How can I help you?\"\n",
      "\"Difficult to know where to begin,\"\n",
      "\"What a week, what a week...\"\n",
      "\"Had a bad one too, have you?\"\n",
      "\"Yes, of course,\"\n",
      "\"I've been having the same week you have, Prime Minister. The Brockdale Bridge... the Bones and Vance murders... not to mention the ruckus in the West Country...\"\n",
      "\"You--er--your--I mean to say, some of your people were--were involved in those--those things, were they?\"\n",
      "\"Of course they were,\"\n",
      "\"Surely you've realized what's going on?\"\n",
      "\"I...\"\n"
     ]
    }
   ],
   "source": [
    "nlp = spacy.blank(\"en\")\n",
    "\n",
    "nlp.add_pipe(\"quote_detector\")\n",
    "\n",
    "text = \"\"\"\n",
    "\"I... oh ... very well,\" said the Prime Minister weakly. \"Yes, I'll see Fudge.\"\n",
    "He hurried back to his desk, straightening his tie as he went. He had barely resumed his seat, and arranged his face into what he hoped was a relaxed and unfazed expression, when bright green flames burst into life in the empty grate beneath his marble mantelpiece. He watched, trying not to betray a flicker of surprise or alarm, as a portly man appeared within the flames, spinning as fast as a top. Seconds later, he had climbed out onto a rather fine antique rug, brushing ash from the sleeves of his long pin-striped cloak, a lime-green bowler hat in his hand.\n",
    "\"Ah... Prime Minister,\" said Cornelius Fudge, striding forward with his hand outstretched. \"Good to see you again.\"\n",
    "The Prime Minister could not honestly return this compliment, so said nothing at all. He was not remotely pleased to see Fudge, whose occasional appearances, apart from being downright alarming in themselves, generally meant that he was about to hear some very bad news. Furthermore, Fudge was looking distinctly careworn. He was thinner, balder, and grayer, and his face had a crumpled look. The Prime Minister had seen that kind of look in politicians before, and it never boded well.\n",
    "\"How can I help you?\" he said, shaking Fudge's hand very briefly and gesturing toward the hardest of the chairs in front of the desk.\n",
    "\"Difficult to know where to begin,\" muttered Fudge, pulling up the chair, sitting down, and placing his green bowler upon his knees. \"What a week, what a week...\"\n",
    "\"Had a bad one too, have you?\" asked the Prime Minister stiffly, hoping to convey by this that he had quite enough on his plate already without any extra helpings from Fudge.\n",
    "\"Yes, of course,\" said Fudge, rubbing his eyes wearily and looking morosely at the Prime Minister. \"I've been having the same week you have, Prime Minister. The Brockdale Bridge... the Bones and Vance murders... not to mention the ruckus in the West Country...\"\n",
    "\"You--er--your--I mean to say, some of your people were--were involved in those--those things, were they?\"\n",
    "Fudge fixed the Prime Minister with a rather stern look. \"Of course they were,\" he said, \"Surely you've realized what's going on?\"\n",
    "\"I...\" hesitated the Prime Minister.\n",
    "\"\"\"\n",
    "\n",
    "doc = nlp(text)\n",
    "\n",
    "for quote in doc._.quotes:\n",
    "    print(quote)"
   ]
  },
  {
   "cell_type": "code",
   "execution_count": null,
   "metadata": {},
   "outputs": [],
   "source": []
  }
 ],
 "metadata": {
  "kernelspec": {
   "display_name": "base",
   "language": "python",
   "name": "python3"
  },
  "language_info": {
   "codemirror_mode": {
    "name": "ipython",
    "version": 3
   },
   "file_extension": ".py",
   "mimetype": "text/x-python",
   "name": "python",
   "nbconvert_exporter": "python",
   "pygments_lexer": "ipython3",
   "version": "3.7.15"
  },
  "orig_nbformat": 4
 },
 "nbformat": 4,
 "nbformat_minor": 2
}
